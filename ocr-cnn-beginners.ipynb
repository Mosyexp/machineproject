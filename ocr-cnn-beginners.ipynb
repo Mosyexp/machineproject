{
 "cells": [
  {
   "cell_type": "code",
   "execution_count": 15,
   "id": "020d55e8",
   "metadata": {
    "id": "cyWhBU5QAS3L",
    "papermill": {
     "duration": 57.921162,
     "end_time": "2023-08-05T10:57:46.154568",
     "exception": false,
     "start_time": "2023-08-05T10:56:48.233406",
     "status": "completed"
    },
    "tags": []
   },
   "outputs": [],
   "source": [
    "import os\n",
    "import cv2\n",
    "import numpy as np\n",
    "\n",
    "\n",
    "images = []\n",
    "labels = []\n",
    "\n",
    "path = r'C:\\Users\\Administrator\\Downloads\\project\\new\\data\\training_data'\n",
    "\n",
    "dir_list = os.listdir(path)\n",
    "for i in dir_list:\n",
    "  dir = os.path.join(path, i)\n",
    "  file_list = os.listdir(dir)\n",
    "  for j in file_list:\n",
    "    files = os.path.join(dir, j)\n",
    "    img = cv2.imread(files)\n",
    "    img = cv2.resize(img, (64,64))\n",
    "    img = np.array(img, dtype=np.float32)\n",
    "    img = img/255\n",
    "    images.append(img)\n",
    "    labels.append(i)\n"
   ]
  },
  {
   "cell_type": "code",
   "execution_count": 16,
   "id": "03b8c9d2",
   "metadata": {
    "id": "49Cr2cderNq0",
    "outputId": "e80de0f3-413d-4386-b83c-6e45f3b96491",
    "papermill": {
     "duration": 0.323745,
     "end_time": "2023-08-05T10:57:46.484503",
     "exception": false,
     "start_time": "2023-08-05T10:57:46.160758",
     "status": "completed"
    },
    "tags": []
   },
   "outputs": [
    {
     "data": {
      "text/plain": [
       "20628"
      ]
     },
     "execution_count": 16,
     "metadata": {},
     "output_type": "execute_result"
    }
   ],
   "source": [
    "X = np.array(images)\n",
    "len(X)"
   ]
  },
  {
   "cell_type": "code",
   "execution_count": 17,
   "id": "0156b83b",
   "metadata": {
    "id": "C_2u-sHt_B7a",
    "outputId": "92bd1bfc-4b79-4f95-92dd-774068d9c38a",
    "papermill": {
     "duration": 0.015639,
     "end_time": "2023-08-05T10:57:46.506022",
     "exception": false,
     "start_time": "2023-08-05T10:57:46.490383",
     "status": "completed"
    },
    "tags": []
   },
   "outputs": [
    {
     "data": {
      "text/plain": [
       "(20628, 64, 64, 3)"
      ]
     },
     "execution_count": 17,
     "metadata": {},
     "output_type": "execute_result"
    }
   ],
   "source": [
    "X.shape"
   ]
  },
  {
   "cell_type": "code",
   "execution_count": 18,
   "id": "f6b37cbb",
   "metadata": {
    "id": "KeAbByV5qYz-",
    "outputId": "3cec41dc-0b13-4d6e-9262-4279b5d08c2a",
    "papermill": {
     "duration": 0.020381,
     "end_time": "2023-08-05T10:57:46.532284",
     "exception": false,
     "start_time": "2023-08-05T10:57:46.511903",
     "status": "completed"
    },
    "tags": []
   },
   "outputs": [
    {
     "data": {
      "text/plain": [
       "20628"
      ]
     },
     "execution_count": 18,
     "metadata": {},
     "output_type": "execute_result"
    }
   ],
   "source": [
    "y = np.array(labels)\n",
    "len(y)"
   ]
  },
  {
   "cell_type": "code",
   "execution_count": 19,
   "id": "121bffd5",
   "metadata": {
    "id": "JB3dn4OqzN_T",
    "outputId": "c7fc7d68-a6e6-436f-d5c4-7d0817991a65",
    "papermill": {
     "duration": 0.015648,
     "end_time": "2023-08-05T10:57:46.553950",
     "exception": false,
     "start_time": "2023-08-05T10:57:46.538302",
     "status": "completed"
    },
    "tags": []
   },
   "outputs": [
    {
     "data": {
      "text/plain": [
       "(20628,)"
      ]
     },
     "execution_count": 19,
     "metadata": {},
     "output_type": "execute_result"
    }
   ],
   "source": [
    "y.shape"
   ]
  },
  {
   "cell_type": "code",
   "execution_count": 29,
   "id": "1981a6d8",
   "metadata": {
    "id": "BSSiQ2DMr1XX",
    "papermill": {
     "duration": 0.920924,
     "end_time": "2023-08-05T10:57:47.480819",
     "exception": false,
     "start_time": "2023-08-05T10:57:46.559895",
     "status": "completed"
    },
    "tags": []
   },
   "outputs": [],
   "source": [
    "from sklearn.preprocessing import LabelEncoder\n",
    "le = LabelEncoder()\n",
    "y = le.fit_transform(y)"
   ]
  },
  {
   "cell_type": "code",
   "execution_count": 30,
   "id": "7909081a",
   "metadata": {
    "id": "FeEcqHQ1sSRr",
    "papermill": {
     "duration": 0.304003,
     "end_time": "2023-08-05T10:57:47.791125",
     "exception": false,
     "start_time": "2023-08-05T10:57:47.487122",
     "status": "completed"
    },
    "tags": []
   },
   "outputs": [],
   "source": [
    "from sklearn.utils import shuffle\n",
    "X_sh, y_sh = shuffle(X, y, random_state=42)"
   ]
  },
  {
   "cell_type": "code",
   "execution_count": 31,
   "id": "a20f4f41",
   "metadata": {
    "id": "rUEeMhg3sk_3",
    "papermill": {
     "duration": 7.114067,
     "end_time": "2023-08-05T10:57:54.911606",
     "exception": false,
     "start_time": "2023-08-05T10:57:47.797539",
     "status": "completed"
    },
    "tags": []
   },
   "outputs": [],
   "source": [
    "from keras.models import Sequential\n",
    "from keras.layers import Conv2D, Flatten, MaxPooling2D, Dense"
   ]
  },
  {
   "cell_type": "code",
   "execution_count": 32,
   "id": "7c47b16d",
   "metadata": {
    "id": "bajnM7Pzw_0S",
    "papermill": {
     "duration": 3.963529,
     "end_time": "2023-08-05T10:57:58.881512",
     "exception": false,
     "start_time": "2023-08-05T10:57:54.917983",
     "status": "completed"
    },
    "tags": []
   },
   "outputs": [
    {
     "name": "stdout",
     "output_type": "stream",
     "text": [
      "WARNING:tensorflow:From C:\\Users\\Administrator\\AppData\\Local\\Programs\\Python\\Python310\\lib\\site-packages\\keras\\src\\backend.py:873: The name tf.get_default_graph is deprecated. Please use tf.compat.v1.get_default_graph instead.\n",
      "\n"
     ]
    }
   ],
   "source": [
    "model = Sequential()"
   ]
  },
  {
   "cell_type": "code",
   "execution_count": 33,
   "id": "8cd2fb60",
   "metadata": {
    "id": "WaTM6lXMxHBm",
    "papermill": {
     "duration": 0.162361,
     "end_time": "2023-08-05T10:57:59.050309",
     "exception": false,
     "start_time": "2023-08-05T10:57:58.887948",
     "status": "completed"
    },
    "tags": []
   },
   "outputs": [
    {
     "name": "stdout",
     "output_type": "stream",
     "text": [
      "WARNING:tensorflow:From C:\\Users\\Administrator\\AppData\\Local\\Programs\\Python\\Python310\\lib\\site-packages\\keras\\src\\layers\\pooling\\max_pooling2d.py:161: The name tf.nn.max_pool is deprecated. Please use tf.nn.max_pool2d instead.\n",
      "\n"
     ]
    }
   ],
   "source": [
    "model.add(Conv2D(filters=16, kernel_size=(3,3), activation='relu', input_shape=(64,64,3)))\n",
    "model.add(MaxPooling2D())\n",
    "model.add(Conv2D(filters=32, kernel_size=(3,3),  activation='relu'))\n",
    "model.add(MaxPooling2D())\n",
    "model.add(Conv2D(filters=64, kernel_size=(3,3),  activation='relu'))\n",
    "model.add(MaxPooling2D())\n",
    "model.add(Conv2D(filters=128, kernel_size=(3,3), activation='relu'))\n",
    "model.add(Flatten())\n",
    "model.add(Dense(units=128, activation='relu'))\n",
    "model.add(Dense(units=64, activation='relu'))\n",
    "model.add(Dense(units=36, activation='softmax'))"
   ]
  },
  {
   "cell_type": "code",
   "execution_count": 51,
   "id": "9f75ca35",
   "metadata": {
    "id": "TRHSmbG9zj9c",
    "papermill": {
     "duration": 0.024297,
     "end_time": "2023-08-05T10:57:59.081617",
     "exception": false,
     "start_time": "2023-08-05T10:57:59.057320",
     "status": "completed"
    },
    "tags": []
   },
   "outputs": [
    {
     "name": "stderr",
     "output_type": "stream",
     "text": [
      "WARNING:absl:`lr` is deprecated in Keras optimizer, please use `learning_rate` or use the legacy optimizer, e.g.,tf.keras.optimizers.legacy.Adam.\n"
     ]
    }
   ],
   "source": [
    "import os\n",
    "import cv2\n",
    "import numpy as np\n",
    "from sklearn.model_selection import train_test_split\n",
    "from keras.models import Sequential\n",
    "from keras.layers import Conv2D, Flatten, MaxPooling2D, Dense, Dropout\n",
    "from keras.optimizers import Adam\n",
    "from keras.preprocessing.image import ImageDataGenerator\n",
    "\n",
    "model.compile(optimizer=Adam(lr=0.001), loss='sparse_categorical_crossentropy', metrics=['accuracy'])"
   ]
  },
  {
   "cell_type": "code",
   "execution_count": 53,
   "id": "ca238e35",
   "metadata": {
    "id": "mvA1MYyYz3UD",
    "outputId": "aa267e21-f09b-4605-8916-fc673a0a5bc5",
    "papermill": {
     "duration": 53.266864,
     "end_time": "2023-08-05T10:58:52.354512",
     "exception": false,
     "start_time": "2023-08-05T10:57:59.087648",
     "status": "completed"
    },
    "tags": []
   },
   "outputs": [
    {
     "name": "stdout",
     "output_type": "stream",
     "text": [
      "Epoch 1/20\n",
      "644/644 [==============================] - 19s 28ms/step - loss: 0.7336 - accuracy: 0.7930 - val_loss: 0.1105 - val_accuracy: 0.9661\n",
      "Epoch 2/20\n",
      "644/644 [==============================] - 18s 28ms/step - loss: 0.3404 - accuracy: 0.8960 - val_loss: 0.0990 - val_accuracy: 0.9684\n",
      "Epoch 3/20\n",
      "644/644 [==============================] - 18s 28ms/step - loss: 0.2762 - accuracy: 0.9134 - val_loss: 0.0917 - val_accuracy: 0.9697\n",
      "Epoch 4/20\n",
      "644/644 [==============================] - 18s 28ms/step - loss: 0.2469 - accuracy: 0.9230 - val_loss: 0.1002 - val_accuracy: 0.9675\n",
      "Epoch 5/20\n",
      "644/644 [==============================] - 18s 28ms/step - loss: 0.2298 - accuracy: 0.9269 - val_loss: 0.0983 - val_accuracy: 0.9660\n",
      "Epoch 6/20\n",
      "644/644 [==============================] - 18s 28ms/step - loss: 0.2057 - accuracy: 0.9337 - val_loss: 0.0994 - val_accuracy: 0.9672\n",
      "Epoch 7/20\n",
      "644/644 [==============================] - 18s 28ms/step - loss: 0.2044 - accuracy: 0.9342 - val_loss: 0.0894 - val_accuracy: 0.9695\n",
      "Epoch 8/20\n",
      "644/644 [==============================] - 18s 28ms/step - loss: 0.1941 - accuracy: 0.9379 - val_loss: 0.0939 - val_accuracy: 0.9666\n",
      "Epoch 9/20\n",
      "644/644 [==============================] - 18s 28ms/step - loss: 0.1771 - accuracy: 0.9421 - val_loss: 0.0861 - val_accuracy: 0.9693\n",
      "Epoch 10/20\n",
      "644/644 [==============================] - 18s 28ms/step - loss: 0.1664 - accuracy: 0.9430 - val_loss: 0.0807 - val_accuracy: 0.9711\n",
      "Epoch 11/20\n",
      "644/644 [==============================] - 18s 29ms/step - loss: 0.1699 - accuracy: 0.9449 - val_loss: 0.0757 - val_accuracy: 0.9729\n",
      "Epoch 12/20\n",
      "644/644 [==============================] - 18s 28ms/step - loss: 0.1496 - accuracy: 0.9505 - val_loss: 0.0743 - val_accuracy: 0.9727\n",
      "Epoch 13/20\n",
      "644/644 [==============================] - 18s 28ms/step - loss: 0.1550 - accuracy: 0.9492 - val_loss: 0.0775 - val_accuracy: 0.9720\n",
      "Epoch 14/20\n",
      "644/644 [==============================] - 18s 28ms/step - loss: 0.1493 - accuracy: 0.9505 - val_loss: 0.0743 - val_accuracy: 0.9735\n",
      "Epoch 15/20\n",
      "644/644 [==============================] - 18s 28ms/step - loss: 0.1458 - accuracy: 0.9518 - val_loss: 0.0704 - val_accuracy: 0.9736\n",
      "Epoch 16/20\n",
      "644/644 [==============================] - 19s 29ms/step - loss: 0.1412 - accuracy: 0.9518 - val_loss: 0.0541 - val_accuracy: 0.9793\n",
      "Epoch 17/20\n",
      "644/644 [==============================] - 19s 30ms/step - loss: 0.1303 - accuracy: 0.9554 - val_loss: 0.0633 - val_accuracy: 0.9759\n",
      "Epoch 18/20\n",
      "644/644 [==============================] - 19s 30ms/step - loss: 0.1346 - accuracy: 0.9553 - val_loss: 0.0593 - val_accuracy: 0.9777\n",
      "Epoch 19/20\n",
      "644/644 [==============================] - 19s 30ms/step - loss: 0.1323 - accuracy: 0.9547 - val_loss: 0.0605 - val_accuracy: 0.9774\n",
      "Epoch 20/20\n",
      "644/644 [==============================] - 19s 30ms/step - loss: 0.1297 - accuracy: 0.9564 - val_loss: 0.0614 - val_accuracy: 0.9757\n"
     ]
    }
   ],
   "source": [
    "import os\n",
    "import cv2\n",
    "import numpy as np\n",
    "from sklearn.model_selection import train_test_split\n",
    "from keras.models import Sequential\n",
    "from keras.layers import Conv2D, Flatten, MaxPooling2D, Dense, Dropout\n",
    "from keras.optimizers import Adam\n",
    "from keras.preprocessing.image import ImageDataGenerator\n",
    "\n",
    "datagen = ImageDataGenerator(\n",
    "    rotation_range=10,\n",
    "    width_shift_range=0.1,\n",
    "    height_shift_range=0.1,\n",
    "    zoom_range=0.1,\n",
    "    horizontal_flip=True\n",
    ")\n",
    "history = model.fit(datagen.flow(X_sh, y_sh, batch_size=32),\n",
    "                    steps_per_epoch=len(X_sh) / 32, epochs=20,\n",
    "                    validation_data=(X_sh, y_sh))"
   ]
  },
  {
   "cell_type": "code",
   "execution_count": 36,
   "id": "9ab01e02",
   "metadata": {
    "id": "gwIDtZF80G83",
    "outputId": "667b0654-38a1-49e3-efa0-5e8221a1578b",
    "papermill": {
     "duration": 0.361681,
     "end_time": "2023-08-05T10:58:52.775449",
     "exception": false,
     "start_time": "2023-08-05T10:58:52.413768",
     "status": "completed"
    },
    "tags": []
   },
   "outputs": [
    {
     "data": {
      "text/plain": [
       "<matplotlib.legend.Legend at 0x1c4fcc774f0>"
      ]
     },
     "execution_count": 36,
     "metadata": {},
     "output_type": "execute_result"
    },
    {
     "data": {
      "image/png": "[encoded data removed]",
      "text/plain": [
       "<Figure size 640x480 with 1 Axes>"
      ]
     },
     "metadata": {},
     "output_type": "display_data"
    }
   ],
   "source": [
    "import matplotlib.pyplot as plt\n",
    "plt.plot(history.history['loss'])\n",
    "plt.plot(history.history['val_loss'])\n",
    "plt.legend(['loss', 'val_loss'])"
   ]
  },
  {
   "cell_type": "code",
   "execution_count": 55,
   "id": "044e2d92-9fe4-4b3f-9eb1-77af7d1e58bb",
   "metadata": {},
   "outputs": [
    {
     "name": "stdout",
     "output_type": "stream",
     "text": [
      "63/63 [==============================] - 7s 118ms/step - loss: 0.0629 - accuracy: 0.9732\n",
      "Test Loss: 0.06294932961463928, Test Accuracy: 0.9732142686843872\n"
     ]
    }
   ],
   "source": [
    "images = []\n",
    "labels = []\n",
    "\n",
    "path = r'C:\\Users\\Administrator\\Downloads\\project\\new\\data\\testing_data'\n",
    "\n",
    "dir_list = os.listdir(path)\n",
    "for i in dir_list:\n",
    "  dir = os.path.join(path, i)\n",
    "  file_list = os.listdir(dir)\n",
    "  for j in file_list:\n",
    "    files = os.path.join(dir, j)\n",
    "    img = cv2.imread(files)\n",
    "    img = cv2.resize(img, (64,64))\n",
    "    img = np.array(img, dtype=np.float32)\n",
    "    img = img/255\n",
    "    test_images.append(img)\n",
    "    test_labels.append(i)\n",
    "\n",
    "\n",
    "X_test = np.array(test_images)\n",
    "y_test = np.array(test_labels)\n",
    "\n",
    "from sklearn.preprocessing import LabelEncoder\n",
    "le = LabelEncoder()\n",
    "y_test = le.fit_transform(y_test)\n",
    "\n",
    "test_loss, test_accuracy = model.evaluate(X_test, y_test)\n",
    "\n",
    "print(f\"Test Loss: {test_loss}, Test Accuracy: {test_accuracy}\")\n"
   ]
  },
  {
   "cell_type": "code",
   "execution_count": 72,
   "id": "1ecd0e47-707a-4f34-8a6c-e05933fef47f",
   "metadata": {},
   "outputs": [
    {
     "name": "stdout",
     "output_type": "stream",
     "text": [
      "1/1 [==============================] - 0s 33ms/step\n"
     ]
    },
    {
     "data": {
      "image/png": "[encoded data removed]",
      "text/plain": [
       "<Figure size 640x480 with 1 Axes>"
      ]
     },
     "metadata": {},
     "output_type": "display_data"
    },
    {
     "data": {
      "image/png": "[encoded data removed]",
      "text/plain": [
       "<Figure size 1000x500 with 1 Axes>"
      ]
     },
     "metadata": {},
     "output_type": "display_data"
    }
   ],
   "source": [
    "import matplotlib.pyplot as plt\n",
    "import string\n",
    "\n",
    "# Assuming you have already loaded the test images and labels\n",
    "\n",
    "# Select one random image from the test set\n",
    "index = np.random.randint(len(X_test))\n",
    "sample_image = X_test[index]\n",
    "actual_label = y_test[index]\n",
    "\n",
    "# Reshape the image to fit the model input shape if necessary\n",
    "# sample_image = sample_image.reshape(1, 64, 64, 3)  # Modify this if the shape is different\n",
    "\n",
    "# Predict the probabilities for each class for the selected image\n",
    "probabilities = model.predict(sample_image.reshape(1, 64, 64, 3))\n",
    "\n",
    "# Display the image\n",
    "plt.imshow(sample_image)\n",
    "plt.axis('off')\n",
    "plt.title(f\"Actual Label: {actual_label}, Predicted Label: {np.argmax(probabilities)}\")\n",
    "plt.show()\n",
    "\n",
    "# Display the predicted probabilities for each class\n",
    "num_classes = 26  # Update this with the number of classes your model predicts\n",
    "alphabet = string.ascii_uppercase[:num_classes]  # Limit the alphabet to the number of classes\n",
    "predicted_alphabet = {i: letter for i, letter in enumerate(alphabet)}\n",
    "predicted_labels = [predicted_alphabet[i] for i in range(num_classes)]\n",
    "\n",
    "plt.figure(figsize=(10, 5))\n",
    "plt.bar(predicted_labels, probabilities[0][:num_classes])\n",
    "plt.xlabel('Alphabets')\n",
    "plt.ylabel('Probabilities')\n",
    "plt.title('Predicted Probabilities')\n",
    "plt.xticks(rotation=45)\n",
    "plt.show()\n"
   ]
  },
  {
   "cell_type": "code",
   "execution_count": 63,
   "id": "53aa13cf-10c8-4e43-b132-73fe3039189e",
   "metadata": {},
   "outputs": [],
   "source": [
    "model.save('trained_model.keras')"
   ]
  },
  {
   "cell_type": "code",
   "execution_count": null,
   "id": "77d8d773-6a74-459e-8d37-af5d9495bc1d",
   "metadata": {},
   "outputs": [],
   "source": []
  }
 ],
 "metadata": {
  "kernelspec": {
   "display_name": "Python 3 (ipykernel)",
   "language": "python",
   "name": "python3"
  },
  "language_info": {
   "codemirror_mode": {
    "name": "ipython",
    "version": 3
   },
   "file_extension": ".py",
   "mimetype": "text/x-python",
   "name": "python",
   "nbconvert_exporter": "python",
   "pygments_lexer": "ipython3",
   "version": "3.10.0"
  },
  "papermill": {
   "default_parameters": {},
   "duration": 141.707729,
   "end_time": "2023-08-05T10:59:00.176119",
   "environment_variables": {},
   "exception": null,
   "input_path": "__notebook__.ipynb",
   "output_path": "__notebook__.ipynb",
   "parameters": {},
   "start_time": "2023-08-05T10:56:38.468390",
   "version": "2.4.0"
  }
 },
 "nbformat": 4,
 "nbformat_minor": 5
}
